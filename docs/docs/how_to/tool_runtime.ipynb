{
 "cells": [
  {
   "cell_type": "markdown",
   "metadata": {},
   "source": [
    "# How to pass run time values to a tool\n",
    "\n",
    ":::info Prerequisites\n",
    "\n",
    "This guide assumes familiarity with the following concepts:\n",
    "- [Chat models](/docs/concepts/#chat-models)\n",
    "- [LangChain Tools](/docs/concepts/#tools)\n",
    "- [How to create tools](/docs/how_to/custom_tools)\n",
    "- [How to use a model to call tools](/docs/how_to/tool_calling)\n",
    ":::\n",
    "\n",
    ":::{.callout-info} Supported models\n",
    "\n",
    "This how-to guide uses models with native tool calling capability.\n",
    "You can find a [list of all models that support tool calling](/docs/integrations/chat/).\n",
    "\n",
    ":::\n",
    "\n",
    ":::{.callout-info} Using with LangGraph\n",
    "\n",
    "If you're using LangGraph, please refer to [this how-to guide](https://langchain-ai.github.io/langgraph/how-tos/pass-run-time-values-to-tools/)\n",
    "which shows how to create an agent that keeps track of a given user's favorite pets.\n",
    ":::\n",
    "\n",
    "There are times where tools need to use runtime values that should not be populated by the LLM. For example, the tool logic may require using the ID of the user who made the request. In this case, allowing the LLM to control the parameter is a security risk.\n",
    "\n",
    "Instead, the LLM should only control the parameters of the tool that are meant to be controlled by the LLM, while other parameters (such as user ID) should be fixed by the application logic. These defined parameters should not be part of the tool's final schema.\n",
    "\n",
    "This how-to guide shows some design patterns that create the tool dynamically at run time and binds appropriate values to them."
   ]
  },
  {
   "cell_type": "markdown",
   "metadata": {},
   "source": [
    "```{=mdx}\n",
    "import ChatModelTabs from \"@theme/ChatModelTabs\";\n",
    "\n",
    "<ChatModelTabs\n",
    "  customVarName=\"llm\"\n",
    "  fireworksParams={`model=\"accounts/fireworks/models/firefunction-v1\", temperature=0`}\n",
    "/>\n",
    "```"
   ]
  },
  {
   "cell_type": "code",
   "execution_count": null,
   "metadata": {},
   "outputs": [],
   "source": [
    "# | output: false\n",
    "# | echo: false\n",
    "\n",
    "# %pip install -qU langchain_core langchain_openai\n",
    "\n",
    "%pip install -qU /Users/jacoblee/langchain/langchain/libs/core langchain_openai\n",
    "\n",
    "import os\n",
    "from getpass import getpass\n",
    "\n",
    "from langchain_openai import ChatOpenAI\n",
    "\n",
    "if \"OPENAI_API_KEY\" not in os.environ:\n",
    "    os.environ[\"OPENAI_API_KEY\"] = getpass()\n",
    "\n",
    "llm = ChatOpenAI(model=\"gpt-3.5-turbo-0125\", temperature=0)"
   ]
  },
  {
   "cell_type": "markdown",
   "metadata": {},
   "source": [
    "## Using the `curry` utility function\n",
    "\n",
    ":::caution Compatibility\n",
    "\n",
    "This function is only available in `langchain_core>=0.2.17`.\n",
    "\n",
    ":::\n",
    "\n",
    "We can bind arguments to the tool's inner function via a utility wrapper. This will use a technique called [currying](https://en.wikipedia.org/wiki/Currying) to bind arguments to the function while also removing it from the function signature.\n",
    "\n",
    "Below, we initialize a tool that lists a user's favorite pet. It requires a `user_id` that we'll curry ahead of time."
   ]
  },
  {
   "cell_type": "code",
   "execution_count": 2,
   "metadata": {},
   "outputs": [],
   "source": [
    "from langchain_core.tools import StructuredTool\n",
    "from langchain_core.utils.curry import curry\n",
    "\n",
    "user_to_pets = {\"eugene\": [\"cats\"]}\n",
    "\n",
    "\n",
    "def list_favorite_pets(user_id: str) -> None:\n",
    "    \"\"\"List favorite pets, if any.\"\"\"\n",
    "    return user_to_pets.get(user_id, [])\n",
    "\n",
    "\n",
    "curried_function = curry(list_favorite_pets, user_id=\"eugene\")\n",
    "\n",
    "curried_tool = StructuredTool.from_function(curried_function)"
   ]
  },
  {
   "cell_type": "markdown",
   "metadata": {},
   "source": [
    "If we examine the schema of the curried tool, we can see that it no longer has `user_id` as part of its signature:"
   ]
  },
  {
   "cell_type": "code",
   "execution_count": 3,
   "metadata": {},
   "outputs": [
    {
     "data": {
      "text/plain": [
       "{'title': 'list_favorite_petsSchema',\n",
       " 'description': 'List favorite pets, if any.',\n",
       " 'type': 'object',\n",
       " 'properties': {}}"
      ]
     },
     "execution_count": 3,
     "metadata": {},
     "output_type": "execute_result"
    }
   ],
   "source": [
    "curried_tool.input_schema.schema()"
   ]
  },
  {
   "cell_type": "markdown",
   "metadata": {},
   "source": [
    "But if we invoke it, we can see that it returns Eugene's favorite pets, `cats`:"
   ]
  },
  {
   "cell_type": "code",
   "execution_count": 4,
   "metadata": {},
   "outputs": [
    {
     "data": {
      "text/plain": [
       "['cats']"
      ]
     },
     "execution_count": 4,
     "metadata": {},
     "output_type": "execute_result"
    }
   ],
   "source": [
    "curried_tool.invoke({})"
   ]
  },
  {
   "cell_type": "markdown",
   "metadata": {},
   "source": [
    "## Using scope\n",
    "\n",
    "We can achieve a similar result by wrapping the tool declarations themselves in a function. This lets us take advantage of the closure created by the wrapper to pass a variable into each tool. Here's an example:"
   ]
  },
  {
   "cell_type": "code",
   "execution_count": 5,
   "metadata": {},
   "outputs": [],
   "source": [
    "from typing import List\n",
    "\n",
    "from langchain_core.tools import BaseTool, tool\n",
    "\n",
    "user_to_pets = {}\n",
    "\n",
    "\n",
    "def generate_tools_for_user(user_id: str) -> List[BaseTool]:\n",
    "    \"\"\"Generate a set of tools that have a user id associated with them.\"\"\"\n",
    "\n",
    "    @tool\n",
    "    def update_favorite_pets(pets: List[str]) -> None:\n",
    "        \"\"\"Add the list of favorite pets.\"\"\"\n",
    "        user_to_pets[user_id] = pets\n",
    "\n",
    "    @tool\n",
    "    def delete_favorite_pets() -> None:\n",
    "        \"\"\"Delete the list of favorite pets.\"\"\"\n",
    "        if user_id in user_to_pets:\n",
    "            del user_to_pets[user_id]\n",
    "\n",
    "    @tool\n",
    "    def list_favorite_pets() -> None:\n",
    "        \"\"\"List favorite pets, if any.\"\"\"\n",
    "        return user_to_pets.get(user_id, [])\n",
    "\n",
    "    return [update_favorite_pets, delete_favorite_pets, list_favorite_pets]"
   ]
  },
  {
   "cell_type": "markdown",
   "metadata": {},
   "source": [
    "Verify that the tools work correctly:"
   ]
  },
  {
   "cell_type": "code",
   "execution_count": 6,
   "metadata": {},
   "outputs": [
    {
     "name": "stdout",
     "output_type": "stream",
     "text": [
      "{'eugene': ['cat', 'dog']}\n",
      "['cat', 'dog']\n"
     ]
    }
   ],
   "source": [
    "update_pets, delete_pets, list_pets = generate_tools_for_user(\"eugene\")\n",
    "update_pets.invoke({\"pets\": [\"cat\", \"dog\"]})\n",
    "print(user_to_pets)\n",
    "print(list_pets.invoke({}))"
   ]
  },
  {
   "cell_type": "code",
   "execution_count": 7,
   "metadata": {},
   "outputs": [],
   "source": [
    "def handle_run_time_request(user_id: str, query: str):\n",
    "    \"\"\"Handle run time request.\"\"\"\n",
    "    tools = generate_tools_for_user(user_id)\n",
    "    llm_with_tools = llm.bind_tools(tools)\n",
    "    return llm_with_tools.invoke(query)"
   ]
  },
  {
   "cell_type": "markdown",
   "metadata": {},
   "source": [
    "This code will allow the LLM to invoke the tools, but the LLM is **unaware** of the fact that a **user ID** even exists!"
   ]
  },
  {
   "cell_type": "code",
   "execution_count": 8,
   "metadata": {},
   "outputs": [
    {
     "data": {
      "text/plain": [
       "[{'name': 'update_favorite_pets',\n",
       "  'args': {'pets': ['cats', 'parrots']},\n",
       "  'id': 'call_c8agYHY1COFSAgwZR11OGCmQ'}]"
      ]
     },
     "execution_count": 8,
     "metadata": {},
     "output_type": "execute_result"
    }
   ],
   "source": [
    "ai_message = handle_run_time_request(\n",
    "    \"eugene\", \"my favorite animals are cats and parrots.\"\n",
    ")\n",
    "ai_message.tool_calls"
   ]
  },
  {
   "cell_type": "markdown",
   "metadata": {},
   "source": [
    ":::{.callout-important}\n",
    "\n",
    "Chat models only output requests to invoke tools, they don't actually invoke the underlying tools.\n",
    "\n",
    "To see how to invoke the tools, please refer to [how to use a model to call tools](https://python.langchain.com/v0.2/docs/how_to/tool_calling).\n",
    ":::"
   ]
  }
 ],
 "metadata": {
  "kernelspec": {
   "display_name": "Python 3 (ipykernel)",
   "language": "python",
   "name": "python3"
  },
  "language_info": {
   "codemirror_mode": {
    "name": "ipython",
    "version": 3
   },
   "file_extension": ".py",
   "mimetype": "text/x-python",
   "name": "python",
   "nbconvert_exporter": "python",
   "pygments_lexer": "ipython3",
   "version": "3.10.5"
  }
 },
 "nbformat": 4,
 "nbformat_minor": 4
}
